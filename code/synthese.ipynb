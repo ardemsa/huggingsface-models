{
 "cells": [
  {
   "cell_type": "code",
   "execution_count": null,
   "metadata": {},
   "outputs": [],
   "source": [
    "#gpt (huggingface pipeline for text generation)\n",
    "# ausführen: https://huggingface.co/docs/transformers/v4.17.0/en/main_classes/pipelines#transformers.SummarizationPipeline -->textmodell\n",
    "#bert encoder: repräsenttationen lernen und fü rklassifikationen nutuen\n",
    "#decoder gut für trsterzeugung , ttt tasks\n",
    "# https://huggingface.co/docs/transformers/model_doc/t5 "
   ]
  }
 ],
 "metadata": {
  "language_info": {
   "name": "python"
  }
 },
 "nbformat": 4,
 "nbformat_minor": 2
}
