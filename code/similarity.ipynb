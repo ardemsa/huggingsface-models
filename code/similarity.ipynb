{
 "cells": [
  {
   "cell_type": "code",
   "execution_count": null,
   "metadata": {},
   "outputs": [],
   "source": [
    "pretrained_model_name = \"https://huggingface.co/cardiffnlp/twitter-roberta-base-similarity-latest\"\n",
    "#TODO check link "
   ]
  }
 ],
 "metadata": {
  "language_info": {
   "name": "python"
  }
 },
 "nbformat": 4,
 "nbformat_minor": 2
}
